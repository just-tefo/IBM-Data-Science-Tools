{
 "cells": [
  {
   "cell_type": "markdown",
   "id": "d7eed742-fb23-4ed2-9fb1-d9c314f30aa9",
   "metadata": {
    "tags": []
   },
   "source": [
    "# Data Science Tools and Ecosystems"
   ]
  },
  {
   "cell_type": "markdown",
   "id": "a9afb7eb-1524-43ea-900b-a884559d4c70",
   "metadata": {},
   "source": [
    "In this notebook, Data Science Tools and Ecosystem are summarized"
   ]
  },
  {
   "cell_type": "markdown",
   "id": "3b2a8ce4-4e35-4c63-a77d-b36fe7735574",
   "metadata": {},
   "source": [
    "***Objectives:***\n",
    "- List popular languages for Data Science\n",
    "- List popular libraries for Data Science\n",
    "- List commonly used Data Science tools\n",
    "- Display some example Python arithmetic expressions \n"
   ]
  },
  {
   "cell_type": "markdown",
   "id": "485acedc-465d-40ee-9321-268fac609cfb",
   "metadata": {},
   "source": [
    "Some of the popular languages that Data Scientists use are:\n",
    "1. Python\n",
    "2. R\n",
    "3. SQL"
   ]
  },
  {
   "cell_type": "markdown",
   "id": "be077a2a-67fb-4f65-851d-e399e6e4e02b",
   "metadata": {},
   "source": [
    "Some of the commonly used libraries used by Data Scientists include:\n",
    "1. Matplotlib\n",
    "2. Numpy\n",
    "3. Pandas"
   ]
  },
  {
   "cell_type": "markdown",
   "id": "ba9061fe-c40e-47f0-a391-aa414af9863f",
   "metadata": {},
   "source": [
    "|Data Science tools|\n",
    "|:----------------:|\n",
    "|     Jupyter      |\n",
    "|   Apache Spark   |\n",
    "|      KNIME       |"
   ]
  },
  {
   "cell_type": "markdown",
   "id": "451c167c-0ef5-4be9-b030-5df41dc9d937",
   "metadata": {},
   "source": [
    "### Below are a few examples of evaluating arithmetic expressions in Python\n"
   ]
  },
  {
   "cell_type": "code",
   "execution_count": 2,
   "id": "f81cc0c8-6cc0-407b-ac12-6d3d4fe17613",
   "metadata": {
    "tags": []
   },
   "outputs": [
    {
     "data": {
      "text/plain": [
       "17"
      ]
     },
     "execution_count": 2,
     "metadata": {},
     "output_type": "execute_result"
    }
   ],
   "source": [
    "# This a simple arithmetic expression to mutiply then add integers\n",
    "(3 * 4) + 5"
   ]
  },
  {
   "cell_type": "code",
   "execution_count": 6,
   "id": "00061856-40fa-44b8-bb6f-28c3cc71a8ee",
   "metadata": {
    "tags": []
   },
   "outputs": [
    {
     "data": {
      "text/plain": [
       "3.3333333333333335"
      ]
     },
     "execution_count": 6,
     "metadata": {},
     "output_type": "execute_result"
    }
   ],
   "source": [
    "# This will convert 200 minutes to hours by diving by 60\n",
    "(200 / 60)"
   ]
  },
  {
   "cell_type": "markdown",
   "id": "f6c1b5f2-fbba-4fe9-b6ff-770dc8ed199d",
   "metadata": {},
   "source": [
    "## Author\n",
    "Tefo Mokgoabone "
   ]
  },
  {
   "cell_type": "code",
   "execution_count": null,
   "id": "226b6bc9-9649-4fa1-8145-45c4968a91f8",
   "metadata": {},
   "outputs": [],
   "source": []
  }
 ],
 "metadata": {
  "kernelspec": {
   "display_name": "Python",
   "language": "python",
   "name": "conda-env-python-py"
  },
  "language_info": {
   "codemirror_mode": {
    "name": "ipython",
    "version": 3
   },
   "file_extension": ".py",
   "mimetype": "text/x-python",
   "name": "python",
   "nbconvert_exporter": "python",
   "pygments_lexer": "ipython3",
   "version": "3.7.12"
  }
 },
 "nbformat": 4,
 "nbformat_minor": 5
}
